{
 "cells": [
  {
   "cell_type": "code",
   "execution_count": 3,
   "metadata": {},
   "outputs": [
    {
     "name": "stdout",
     "output_type": "stream",
     "text": [
      "{'sequence': 'Angela Merkel is a politician in Germany and leader of the CDU', 'labels': ['political activities', 'economic policy', 'entertainment or music', 'environmental protection'], 'scores': [0.9991865158081055, 0.00028583945822902024, 0.0002708469401113689, 0.00025674424250610173]}\n"
     ]
    }
   ],
   "source": [
    "import spacy\n",
    "\n",
    "classification_labels = [\"politics\", \"economy\", \"entertainment\", \"environment\"]\n",
    "text = \"Angela Merkel is a politician in Germany and leader of the CDU\"\n",
    "\n",
    "nlp = spacy.blank(\"en\")\n",
    "nlp.add_pipe(\n",
    "    \"classy_classification\",\n",
    "    config={\n",
    "        \"model\": \"MoritzLaurer/deberta-v3-large-zeroshot-v2.0\",\n",
    "        \"data\": classification_labels,\n",
    "        \"cat_type\": \"zero\",\n",
    "    },\n",
    ")\n",
    "\n",
    "print(nlp(text)._.cats)"
   ]
  },
  {
   "cell_type": "code",
   "execution_count": 4,
   "metadata": {},
   "outputs": [
    {
     "name": "stdout",
     "output_type": "stream",
     "text": [
      "{'sequence': 'Angela Merkel is a politician in Germany and leader of the CDU', 'labels': ['political activities', 'economic policy', 'entertainment or music', 'environmental protection'], 'scores': [0.9968553781509399, 0.0011682267067953944, 0.001154050580225885, 0.000822346075437963]}\n"
     ]
    }
   ],
   "source": [
    "text = \"Your account has been locked due to multiple failed login attempts. Please reset your password to regain access.\"\n",
    "\n",
    "classification_labels = [\n",
    "    \"automatic_message\",\n",
    "    \"urgent_message\",\n",
    "    \"churn\",\n",
    "]\n",
    "\n",
    "nlp.update_pipe(\n",
    "    \"classy_classification\",\n",
    "    config={\n",
    "        \"model\": \"MoritzLaurer/deberta-v3-large-zeroshot-v2.0\",\n",
    "        \"data\": classification_labels,\n",
    "        \"cat_type\": \"zero\",\n",
    "    },\n",
    ")\n",
    "\n",
    "print(nlp(text)._.cats)\n"
   ]
  },
  {
   "cell_type": "code",
   "execution_count": null,
   "metadata": {},
   "outputs": [],
   "source": []
  }
 ],
 "metadata": {
  "kernelspec": {
   "display_name": ".venv",
   "language": "python",
   "name": "python3"
  },
  "language_info": {
   "codemirror_mode": {
    "name": "ipython",
    "version": 3
   },
   "file_extension": ".py",
   "mimetype": "text/x-python",
   "name": "python",
   "nbconvert_exporter": "python",
   "pygments_lexer": "ipython3",
   "version": "3.11.10"
  }
 },
 "nbformat": 4,
 "nbformat_minor": 2
}
