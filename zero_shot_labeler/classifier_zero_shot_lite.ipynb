{
 "cells": [
  {
   "cell_type": "code",
   "execution_count": 1,
   "metadata": {},
   "outputs": [
    {
     "name": "stderr",
     "output_type": "stream",
     "text": [
      "/Users/juan/Code/playground/.venv/lib/python3.11/site-packages/tqdm/auto.py:21: TqdmWarning: IProgress not found. Please update jupyter and ipywidgets. See https://ipywidgets.readthedocs.io/en/stable/user_install.html\n",
      "  from .autonotebook import tqdm as notebook_tqdm\n"
     ]
    },
    {
     "name": "stdout",
     "output_type": "stream",
     "text": [
      "Loading model from /Users/juan/Code/playground/playground/opt/ml/model\n",
      "Model loaded in 0.45 seconds\n",
      "Classifying text: Angela Merkel is a politician in Germany and leader of the CDU\n",
      "Classification in 5.78 seconds\n",
      "{'political activities': 0.9968553781509399, 'economic policy': 0.0011682271724566817, 'entertainment or music': 0.001154051162302494, 'environmental protection': 0.000822346075437963}\n"
     ]
    }
   ],
   "source": [
    "from labeler import Labeler\n",
    "\n",
    "text = \"Angela Merkel is a politician in Germany and leader of the CDU\"\n",
    "\n",
    "classification_labels = [\n",
    "    \"environmental protection\",\n",
    "    \"entertainment or music\",\n",
    "    \"political activities\",\n",
    "    \"economic policy\",\n",
    "]\n",
    "\n",
    "# test different formulations\n",
    "zeroshot_classifier = Labeler()\n",
    "\n",
    "output = zeroshot_classifier(text, classification_labels)\n",
    "print(output)"
   ]
  },
  {
   "cell_type": "code",
   "execution_count": 2,
   "metadata": {},
   "outputs": [
    {
     "name": "stdout",
     "output_type": "stream",
     "text": [
      "Classifying text: Your account has been locked due to multiple failed login attempts. Please reset your password to regain access.\n",
      "Classification in 3.88 seconds\n",
      "{'automatic_message': 0.7459570169448853, 'urgent_message': 0.15497781336307526, 'churn_message': 0.09628171473741531, 'praise_message': 0.0027834803331643343}\n"
     ]
    }
   ],
   "source": [
    "text = \"Your account has been locked due to multiple failed login attempts. Please reset your password to regain access.\"\n",
    "\n",
    "classification_labels = [\n",
    "    \"automatic_message\",\n",
    "    \"urgent_message\",\n",
    "    \"praise_message\",\n",
    "    \"churn_message\",\n",
    "]\n",
    "\n",
    "output = zeroshot_classifier(text, classification_labels)\n",
    "print(output)\n"
   ]
  },
  {
   "cell_type": "code",
   "execution_count": 3,
   "metadata": {},
   "outputs": [
    {
     "name": "stdout",
     "output_type": "stream",
     "text": [
      "Classifying text: I'm writing to inform you that we have decided to discontinue our relationship with your company due to budget constraints.\n",
      "Classification in 1.13 seconds\n",
      "churn_message {'churn_message': 0.8931707739830017, 'automatic_message': 0.07778528332710266, 'urgent_message': 0.027275586500763893, 'praise_message': 0.0017684206832200289}\n",
      "Classifying text: We need to terminate our relationship with you.\n",
      "Classification in 1.14 seconds\n",
      "churn_message {'churn_message': 0.8650354743003845, 'automatic_message': 0.07241968810558319, 'urgent_message': 0.059875618666410446, 'praise_message': 0.002669217064976692}\n",
      "Classifying text: Your product is amazing! I've been using it for a month now and it has exceeded my expectations.\n",
      "Classification in 1.10 seconds\n",
      "praise_message {'praise_message': 0.9905157685279846, 'churn_message': 0.00410808390006423, 'automatic_message': 0.004045836161822081, 'urgent_message': 0.0013302229344844818}\n",
      "Classifying text: The customer support is top-notch and the features are exactly what I needed.\n",
      "Classification in 0.86 seconds\n",
      "praise_message {'praise_message': 0.9615906476974487, 'automatic_message': 0.022167222574353218, 'churn_message': 0.011453747749328613, 'urgent_message': 0.0047883884981274605}\n",
      "Classifying text: This is an automated email. Please respond to this email to confirm your subscription.\n",
      "Classification in 0.92 seconds\n",
      "automatic_message {'automatic_message': 0.9319966435432434, 'churn_message': 0.06464570760726929, 'urgent_message': 0.002662092447280884, 'praise_message': 0.0006955694407224655}\n",
      "Classifying text: This is an urgent email. Please respond to this email immediately.\n",
      "Classification in 0.82 seconds\n",
      "urgent_message {'urgent_message': 0.9871454238891602, 'churn_message': 0.008098776452243328, 'automatic_message': 0.0044797430746257305, 'praise_message': 0.0002760439529083669}\n"
     ]
    }
   ],
   "source": [
    "test_data_by_label = {\n",
    "    \"churn_message\": [\n",
    "        \"I'm writing to inform you that we have decided to discontinue our relationship with your company due to budget constraints.\",\n",
    "        \"We need to terminate our relationship with you.\",\n",
    "    ],\n",
    "    \"praise_message\": [\n",
    "        \"Your product is amazing! I've been using it for a month now and it has exceeded my expectations.\",\n",
    "        \"The customer support is top-notch and the features are exactly what I needed.\",\n",
    "    ],\n",
    "    \"automatic_message\": [\n",
    "        \"This is an automated email. Please respond to this email to confirm your subscription.\"\n",
    "    ],\n",
    "    \"urgent_message\": [\n",
    "        \"This is an urgent email. Please respond to this email immediately.\"\n",
    "    ],\n",
    "}\n",
    "\n",
    "\n",
    "for expected_label, texts in test_data_by_label.items():\n",
    "    for text in texts:\n",
    "        output = zeroshot_classifier(text, classification_labels)\n",
    "        print(expected_label, output)\n",
    "        assert output[expected_label] > 0.5"
   ]
  },
  {
   "cell_type": "code",
   "execution_count": null,
   "metadata": {},
   "outputs": [],
   "source": []
  }
 ],
 "metadata": {
  "kernelspec": {
   "display_name": ".venv",
   "language": "python",
   "name": "python3"
  },
  "language_info": {
   "codemirror_mode": {
    "name": "ipython",
    "version": 3
   },
   "file_extension": ".py",
   "mimetype": "text/x-python",
   "name": "python",
   "nbconvert_exporter": "python",
   "pygments_lexer": "ipython3",
   "version": "3.11.10"
  }
 },
 "nbformat": 4,
 "nbformat_minor": 2
}
